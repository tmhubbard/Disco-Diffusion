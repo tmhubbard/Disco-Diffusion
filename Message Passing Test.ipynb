{
 "cells": [
  {
   "cell_type": "markdown",
   "id": "visible-sullivan",
   "metadata": {},
   "source": [
    "# Motivation\n",
    "I'm going to try out some of the message-passing functionality that's provided by Python's multiprocessing library. I'm basing this off of [some code that I found on Stack Overflow.](https://stackoverflow.com/questions/6920858/interprocess-communication-in-python) Once I get it working properly, I should be able to use it to communicate between the Dash app and running instances of Disco Diffusion."
   ]
  },
  {
   "cell_type": "code",
   "execution_count": null,
   "id": "sudden-travel",
   "metadata": {},
   "outputs": [],
   "source": [
    "from multiprocessing.connection import Client\n",
    "\n",
    "address = ('localhost', 6000)\n",
    "conn = Client(address, authkey=b'disco')\n",
    "\n",
    "# # can also send arbitrary objects:\n",
    "# # conn.send(['a', 2.5, None, int, sum])\n",
    "conn.close()"
   ]
  },
  {
   "cell_type": "markdown",
   "id": "beautiful-shore",
   "metadata": {},
   "source": [
    "# Timer Script\n",
    "I've decided that I want to make a \"timer script\" that'll run a timer of an arbitrary length, and then send messages about the progress. "
   ]
  },
  {
   "cell_type": "code",
   "execution_count": 1,
   "id": "structural-simulation",
   "metadata": {},
   "outputs": [],
   "source": [
    "# First, set up the Client\n",
    "from multiprocessing.connection import Client\n",
    "address = ('localhost', 6000)\n",
    "conn = Client(address, authkey=b'secret password')"
   ]
  },
  {
   "cell_type": "code",
   "execution_count": 2,
   "id": "biblical-immigration",
   "metadata": {},
   "outputs": [],
   "source": [
    "# Now, we'll need to start a timer. \n",
    "from time import sleep \n",
    "second_amt = 30\n",
    "remaining_seconds = second_amt\n",
    "\n",
    "# Iterate through the timer, and send a message each time the timer ticks down \n",
    "while (remaining_seconds > 0):\n",
    "    sleep(1)\n",
    "    remaining_seconds -= 1\n",
    "    conn.send(remaining_seconds)"
   ]
  },
  {
   "cell_type": "code",
   "execution_count": null,
   "id": "comic-cancer",
   "metadata": {},
   "outputs": [],
   "source": []
  }
 ],
 "metadata": {
  "kernelspec": {
   "display_name": "Python 3",
   "language": "python",
   "name": "python3"
  },
  "language_info": {
   "codemirror_mode": {
    "name": "ipython",
    "version": 3
   },
   "file_extension": ".py",
   "mimetype": "text/x-python",
   "name": "python",
   "nbconvert_exporter": "python",
   "pygments_lexer": "ipython3",
   "version": "3.9.2"
  }
 },
 "nbformat": 4,
 "nbformat_minor": 5
}
