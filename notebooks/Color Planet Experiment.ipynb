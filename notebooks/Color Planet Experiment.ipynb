{
 "cells": [
  {
   "cell_type": "markdown",
   "id": "mathematical-million",
   "metadata": {},
   "source": [
    "First, we'll need to change our directory to the parent directory; that way, we'll be able to use some of the utils. "
   ]
  },
  {
   "cell_type": "code",
   "execution_count": 2,
   "id": "bacterial-admission",
   "metadata": {},
   "outputs": [
    {
     "name": "stdout",
     "output_type": "stream",
     "text": [
      "C:\\Data\\Personal Study\\Programming\\disco-diffusion-dash\n"
     ]
    }
   ],
   "source": [
    "%cd .."
   ]
  },
  {
   "cell_type": "code",
   "execution_count": 12,
   "id": "japanese-pioneer",
   "metadata": {},
   "outputs": [],
   "source": [
    "import json\n",
    "from copy import deepcopy\n",
    "from utils import add_computed_parameters\n",
    "from pathlib import Path"
   ]
  },
  {
   "cell_type": "code",
   "execution_count": 5,
   "id": "coral-degree",
   "metadata": {},
   "outputs": [],
   "source": [
    "default_params = {}\n",
    "with open(\"param_defaults.json\", \"r\") as param_default_json:\n",
    "    default_params = json.load(param_default_json)"
   ]
  },
  {
   "cell_type": "code",
   "execution_count": 14,
   "id": "exempt-crowd",
   "metadata": {},
   "outputs": [],
   "source": [
    "output_folder = Path(\"color_planet_experiment/\")\n",
    "if (not output_folder.exists()):\n",
    "    Path.mkdir(output_folder)"
   ]
  },
  {
   "cell_type": "markdown",
   "id": "mineral-nickel",
   "metadata": {},
   "source": [
    "Now, we need to edit the default_params. Specifically, these parameters:\n",
    "- batch_name\n",
    "- steps\n",
    "- n_batches\n",
    "- width_height\n",
    "- text_prompts"
   ]
  },
  {
   "cell_type": "code",
   "execution_count": 20,
   "id": "musical-penalty",
   "metadata": {},
   "outputs": [],
   "source": [
    "# Iterate through each of the colors you're experimenting with \n",
    "for color in [\"red\", \"orange\", \"yellow\", \"green\", \"blue\", \"purple\"]:\n",
    "    \n",
    "    # Edit the parameters accordingly \n",
    "    new_params = deepcopy(default_params)\n",
    "    new_params[\"batch_name\"] = f\"{color} planet portrait series\"\n",
    "    new_params[\"steps\"] = 325\n",
    "    new_params[\"n_batches\"] = 3\n",
    "    new_params[\"width_height\"] = [512, 1088]\n",
    "    new_params[\"text_prompts\"] = {\"0\": [\n",
    "        f\"psychadelic {color} watercolor painting of outer space. trending on artstation:1\",\n",
    "        f\"large bright {color} planet in deep black outer space:1\",\n",
    "        f\"deep {color} and dark {color} and black color palette:1\",\n",
    "        f\"watercolor painting of {color} planet amidst the deep black outer space:1\"]}\n",
    "    \n",
    "    # Add the computed parameters to the new_params dict\n",
    "    new_params = add_computed_parameters(new_params)\n",
    "    \n",
    "    # Save this new_param dict \n",
    "    with open(f\"{str(output_folder)}/{color}_config_file.json\", \"w\") as jsonFile:\n",
    "        json.dump(new_params, jsonFile, indent=4)"
   ]
  }
 ],
 "metadata": {
  "kernelspec": {
   "display_name": "Python 3",
   "language": "python",
   "name": "python3"
  },
  "language_info": {
   "codemirror_mode": {
    "name": "ipython",
    "version": 3
   },
   "file_extension": ".py",
   "mimetype": "text/x-python",
   "name": "python",
   "nbconvert_exporter": "python",
   "pygments_lexer": "ipython3",
   "version": "3.9.2"
  }
 },
 "nbformat": 4,
 "nbformat_minor": 5
}
