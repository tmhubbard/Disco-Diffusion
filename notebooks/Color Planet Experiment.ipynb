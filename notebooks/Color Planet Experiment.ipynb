{
 "cells": [
  {
   "cell_type": "markdown",
   "id": "mathematical-million",
   "metadata": {},
   "source": [
    "First, we'll need to change our directory to the parent directory; that way, we'll be able to use some of the utils. "
   ]
  },
  {
   "cell_type": "code",
   "execution_count": 1,
   "id": "bacterial-admission",
   "metadata": {},
   "outputs": [
    {
     "name": "stdout",
     "output_type": "stream",
     "text": [
      "C:\\Data\\Personal Study\\Programming\\disco-diffusion-dash\n"
     ]
    }
   ],
   "source": [
    "%cd .."
   ]
  },
  {
   "cell_type": "code",
   "execution_count": 9,
   "id": "japanese-pioneer",
   "metadata": {},
   "outputs": [],
   "source": [
    "import json\n",
    "from copy import deepcopy\n",
    "from utils import add_computed_parameters\n",
    "from pathlib import Path"
   ]
  },
  {
   "cell_type": "code",
   "execution_count": 10,
   "id": "coral-degree",
   "metadata": {},
   "outputs": [],
   "source": [
    "default_params = {}\n",
    "with open(\"param_defaults.json\", \"r\") as param_default_json:\n",
    "    default_params = json.load(param_default_json)"
   ]
  },
  {
   "cell_type": "markdown",
   "id": "mineral-nickel",
   "metadata": {},
   "source": [
    "Now, we need to edit the default_params. Specifically, these parameters:\n",
    "- batch_name\n",
    "- steps\n",
    "- n_batches\n",
    "- width_height\n",
    "- text_prompts"
   ]
  },
  {
   "cell_type": "markdown",
   "id": "electric-gender",
   "metadata": {},
   "source": [
    "# Methods"
   ]
  },
  {
   "cell_type": "code",
   "execution_count": 17,
   "id": "boring-rubber",
   "metadata": {},
   "outputs": [],
   "source": [
    "# This method will generate a config dict using lots of defaults\n",
    "def simple_config_generator(batch_name, text_prompts, image_prompts={}, steps=275, n_batches=1, width_height=[1088, 640]):\n",
    "    \n",
    "    # Load up the default parameters\n",
    "    default_params = {}\n",
    "    with open(\"param_defaults.json\", \"r\") as param_default_json:\n",
    "        default_params = json.load(param_default_json)\n",
    "    \n",
    "    # Copy the default parameters, and then add in the arguments to this dict\n",
    "    new_params = deepcopy(default_params)\n",
    "    new_params[\"batch_name\"] = batch_name\n",
    "    new_params[\"steps\"] = steps\n",
    "    new_params[\"n_batches\"] = n_batches\n",
    "    new_params[\"width_height\"] = width_height\n",
    "    new_params[\"text_prompts\"] = text_prompts\n",
    "    new_params[\"image_prompts\"] = image_prompts\n",
    "    \n",
    "    # Add the computed parameters to the new_params dict\n",
    "    new_params = add_computed_parameters(new_params)\n",
    "    \n",
    "    # Return the new_params dict\n",
    "    return new_params"
   ]
  },
  {
   "cell_type": "markdown",
   "id": "furnished-zimbabwe",
   "metadata": {},
   "source": [
    "## Color Experiments"
   ]
  },
  {
   "cell_type": "code",
   "execution_count": 22,
   "id": "sunset-coupon",
   "metadata": {},
   "outputs": [],
   "source": [
    "output_folder = Path(\"color_planet_experiment/\")\n",
    "if (not output_folder.exists()):\n",
    "    Path.mkdir(output_folder)"
   ]
  },
  {
   "cell_type": "code",
   "execution_count": 24,
   "id": "musical-penalty",
   "metadata": {},
   "outputs": [],
   "source": [
    "# Iterate through each of the colors you're experimenting with \n",
    "for color in [\"red\", \"yellow\", \"purple\", \"orange\"]:\n",
    "    \n",
    "    # Edit the parameters accordingly \n",
    "    new_params = deepcopy(default_params)\n",
    "    new_params[\"batch_name\"] = f\"{color} planet portrait extra series\"\n",
    "    new_params[\"steps\"] = 335\n",
    "    new_params[\"n_batches\"] = 6\n",
    "    new_params[\"width_height\"] = [512, 1088]\n",
    "    new_params[\"text_prompts\"] = {\"0\": [\n",
    "        f\"psychadelic {color} watercolor painting of outer space. trending on artstation:1\",\n",
    "        f\"large bright {color} planet in deep black outer space:1\",\n",
    "        f\"deep {color} and dark {color} and black color palette:1\",\n",
    "        f\"watercolor painting of {color} planet amidst the deep black outer space:1\"]}\n",
    "    \n",
    "    # Add the computed parameters to the new_params dict\n",
    "    new_params = add_computed_parameters(new_params)\n",
    "    \n",
    "    # Save this new_param dict \n",
    "    with open(f\"{str(output_folder)}/{color}_config_file.json\", \"w\") as jsonFile:\n",
    "        json.dump(new_params, jsonFile, indent=4)"
   ]
  },
  {
   "cell_type": "markdown",
   "id": "adapted-silence",
   "metadata": {},
   "source": [
    "## Volcanic Jungle Experiments"
   ]
  },
  {
   "cell_type": "code",
   "execution_count": 13,
   "id": "forbidden-province",
   "metadata": {},
   "outputs": [],
   "source": [
    "output_folder = Path(\"volcanic_jungle_experiment/\")\n",
    "if (not output_folder.exists()):\n",
    "    Path.mkdir(output_folder)"
   ]
  },
  {
   "cell_type": "code",
   "execution_count": 15,
   "id": "current-spanking",
   "metadata": {},
   "outputs": [],
   "source": [
    "# Iterate through each of the style you're experimenting with \n",
    "for style in [\"van Gogh\", \"Basquiat\", \"Kandinsky\", \"Keith Haring\", \"Studio Ghibli\"]:\n",
    "    \n",
    "    # Edit the parameters accordingly \n",
    "    new_params = deepcopy(default_params)\n",
    "    new_params[\"batch_name\"] = f\"{style} volcanic jungle series\"\n",
    "    new_params[\"steps\"] = 300\n",
    "    new_params[\"n_batches\"] = 1\n",
    "    new_params[\"width_height\"] = [1150, 700]\n",
    "    new_params[\"text_prompts\"] = {\"0\": [f\"Volcanic Jungle in the style of {style}. Trending on ArtStation:1\",\n",
    "                                        f\"Looming volcano surrounded by a large jungle, in the style of {style}. Trending on ArtStation:1\"]}\n",
    "    \n",
    "    # Add the computed parameters to the new_params dict\n",
    "    new_params = add_computed_parameters(new_params)\n",
    "    \n",
    "    # Save this new_param dict \n",
    "    with open(f\"{str(output_folder)}/{style}_config_file.json\", \"w\") as jsonFile:\n",
    "        json.dump(new_params, jsonFile, indent=4)"
   ]
  },
  {
   "cell_type": "markdown",
   "id": "traditional-tennessee",
   "metadata": {},
   "source": [
    "## Miscellaneous\n"
   ]
  },
  {
   "cell_type": "code",
   "execution_count": 19,
   "id": "reported-journey",
   "metadata": {},
   "outputs": [],
   "source": [
    "output_folder = Path(\"miscellaneous_runs/\")\n",
    "if (not output_folder.exists()):\n",
    "    Path.mkdir(output_folder)"
   ]
  },
  {
   "cell_type": "code",
   "execution_count": 21,
   "id": "requested-handbook",
   "metadata": {},
   "outputs": [],
   "source": [
    "batch_name = \"Wine Rivers\"\n",
    "text_prompts = {\"0\": [\"Classical painting of rivers of wine flowing through the city. Trending on ArtStation:2\",\n",
    "                     \"Rivers of red and white wine:1\"]}\n",
    "with open(f\"{output_folder}/{batch_name}_config.json\", \"w\") as config_json:\n",
    "    json.dump(simple_config_generator(batch_name, text_prompts, steps=300), config_json, indent=4)\n"
   ]
  },
  {
   "cell_type": "code",
   "execution_count": null,
   "id": "black-settlement",
   "metadata": {},
   "outputs": [],
   "source": []
  }
 ],
 "metadata": {
  "kernelspec": {
   "display_name": "Python 3",
   "language": "python",
   "name": "python3"
  },
  "language_info": {
   "codemirror_mode": {
    "name": "ipython",
    "version": 3
   },
   "file_extension": ".py",
   "mimetype": "text/x-python",
   "name": "python",
   "nbconvert_exporter": "python",
   "pygments_lexer": "ipython3",
   "version": "3.9.2"
  }
 },
 "nbformat": 4,
 "nbformat_minor": 5
}
